{
  "nbformat": 4,
  "nbformat_minor": 0,
  "metadata": {
    "colab": {
      "provenance": []
    },
    "kernelspec": {
      "name": "python3",
      "display_name": "Python 3"
    },
    "language_info": {
      "name": "python"
    }
  },
  "cells": [
    {
      "cell_type": "markdown",
      "source": [
        "SQL stands for \"Structured Query Language.  It is a domain-specific programming language used for managing and manipulating relational databases. SQL is used to perform various database operations, including creating and modifying database schemas, inserting, updating, and deleting data, and querying databases to retrieve specific information. It provides a standardized way to communicate with relational database management systems (RDBMS) such as MySQL, PostgreSQL, Oracle, and Microsoft SQL Server.\n",
        "\n",
        "A relational database is a type of database management system (DBMS) that stores and organizes data in a structured manner using a tabular format consisting of rows and columns.\n",
        "\n",
        "Books Table:\n",
        "\n",
        "Columns: BookID (Primary Key), Title, Author, Genre, PublicationYear\n",
        "In this table, the BookID column serves as the primary key, which means it uniquely identifies each book in the library. No two books can have the same BookID:\n",
        "\n",
        "\n",
        "| BookID |   Title    |  Author  |   Genre   | PublicationYear |\n",
        "|--------|------------|----------|-----------|-----------------|\n",
        "|   1    | BookA      | Author1  | Fiction   |     2020        |\n",
        "|   2    | BookB      | Author2  | Non-Fiction|    2018        |\n",
        "|   3    | BookC      | Author3  | Mystery   |     2019        |\n",
        "\n",
        "\n",
        "\n",
        "\n",
        "\n"
      ],
      "metadata": {
        "id": "vTUyhKORr-gK"
      }
    },
    {
      "cell_type": "markdown",
      "source": [
        "Customers Table:\n",
        "\n",
        "Columns: CustomerID (Primary Key), FirstName, LastName, Email\n",
        "In this table, the CustomerID column is the primary key, ensuring that each customer has a unique identifier:\n",
        "\n",
        "| CustomerID | FirstName | LastName |         Email         |\n",
        "|------------|-----------|----------|-----------------------|\n",
        "|     1      |   John    |   Doe    | john.doe@example.com  |\n",
        "|     2      |   Alice   |  Johnson | alice.j@example.com   |\n",
        "|     3      |   Bob     |   Smith  | bob.smith@example.com |\n",
        "\n",
        "\n",
        "\n",
        "BorrowedBooks Table:\n",
        "\n",
        "Columns: BorrowID (Primary Key), BookID (Foreign Key), CustomerID (Foreign Key), BorrowDate, ReturnDate\n",
        "\n",
        "| BorrowID | BookID | CustomerID | BorrowDate | ReturnDate |\n",
        "|----------|--------|------------|------------|------------|\n",
        "|    1     |   1    |     1      | 2022-01-15 | 2022-02-15 |\n",
        "|    2     |   2    |     3      | 2022-03-10 | 2022-04-10 |\n",
        "|    3     |   3    |     2      | 2022-05-20 | 2022-06-20 |\n",
        "\n",
        "\n"
      ],
      "metadata": {
        "id": "xCVMnqoIuBqt"
      }
    },
    {
      "cell_type": "markdown",
      "source": [
        "# SELECT name of attribute/s FROM name of table WHERE name of place/position of records/position of row/sample/datapoint"
      ],
      "metadata": {
        "id": "zHqyAsTNyH_N"
      }
    },
    {
      "cell_type": "markdown",
      "source": [
        "SELECT Statement:\n",
        "\n",
        "Select all records from the Books table:\n",
        "\n",
        "# SELECT * FROM Books;\n",
        "\n",
        "Select specific columns from the Customers table:\n",
        "\n",
        "\n",
        "# SELECT FirstName, LastName FROM Customers;\n",
        "\n",
        "\n",
        "Select books published in a specific year:\n",
        "\n",
        "\n",
        "# SELECT Title, Author FROM Books WHERE PublicationYear = 2022;\n",
        "\n",
        "\n",
        "INSERT Statement:\n",
        "\n",
        "Insert a new book into the Books table:\n",
        "\n",
        "\n",
        "# INSERT INTO Books (Title, Author, Genre, PublicationYear)\n",
        "# VALUES ('New Book', 'New Author', 'Mystery', 2023);\n",
        "\n",
        "Insert a new customer into the Customers table:\n",
        "\n",
        "# INSERT INTO Customers (FirstName, LastName, Email)\n",
        "# VALUES ('Jane', 'Doe', 'jane.doe@example.com');\n",
        "\n",
        "\n",
        "DELETE Statement:\n",
        "\n",
        "Delete a book by its BookID from the Books table:\n",
        "\n",
        "\n",
        "# DELETE FROM Books WHERE BookID = 4;\n",
        "\n",
        "Delete a customer by CustomerID from the Customers table:\n",
        "\n",
        "\n",
        "# DELETE FROM Customers WHERE CustomerID = 5;\n",
        "\n",
        "UPDATE Statement:\n",
        "\n",
        "Update the genre of a book by BookID:\n",
        "\n",
        "\n",
        "# UPDATE Books\n",
        "\n",
        "# SET Genre = 'Science Fiction'\n",
        "\n",
        "# WHERE BookID = 3;\n",
        "\n",
        "\n",
        "Update a customer's email address by CustomerID:\n",
        "\n",
        "\n",
        "# UPDATE Customers\n",
        "\n",
        "# SET Email = 'new.email@example.com'\n",
        "\n",
        "# WHERE CustomerID = 2;\n",
        "\n",
        "\n",
        "JOIN Statement:\n",
        "\n",
        "Retrieve a list of books borrowed by customers, including customer names:\n",
        "\n",
        "\n",
        "# SELECT Customers.FirstName, Customers.LastName, Books.Title\n",
        "# FROM Customers\n",
        "\n",
        "# INNER JOIN BorrowedBooks ON Customers.CustomerID = BorrowedBooks.CustomerID\n",
        "\n",
        "# INNER JOIN Books ON BorrowedBooks.BookID = Books.BookID;\n",
        "\n",
        "This query uses INNER JOIN to combine records from the Customers table and the Books table based on matching CustomerID and BookID values in the BorrowedBooks table.\n",
        "\n"
      ],
      "metadata": {
        "id": "t5KH1-t6vXmG"
      }
    },
    {
      "cell_type": "markdown",
      "source": [
        "A \"JOIN\" in SQL is used to combine rows from two or more tables based on a related column between them. The primary purpose of using a JOIN is to retrieve data that spans multiple tables, allowing you to create more complex queries.\n",
        "\n",
        "There are different types of JOINs in SQL, including INNER JOIN, LEFT JOIN (or LEFT OUTER JOIN), RIGHT JOIN (or RIGHT OUTER JOIN), and FULL JOIN (or FULL OUTER JOIN), each serving a specific purpose in combining data from tables.\n",
        "\n",
        "Here's a brief explanation of these JOIN types with examples:\n",
        "\n",
        "INNER JOIN:\n",
        "\n",
        "Returns only the rows where there is a match in both tables.\n",
        "\n",
        "Example:\n",
        "\n",
        "\n",
        "- SELECT Orders.OrderID, Customers.CustomerName\n",
        "- FROM Orders\n",
        "- INNER JOIN Customers ON Orders.CustomerID = Customers.CustomerID;\n",
        "\n",
        "\n",
        "LEFT JOIN (LEFT OUTER JOIN):\n",
        "\n",
        "Returns all rows from the left table and the matched rows from the right table. If there is no match, NULL values are returned for columns from the right table.\n",
        "\n",
        "Example:\n",
        "\n",
        "- SELECT Customers.CustomerName, Orders.OrderID\n",
        "- FROM Customers\n",
        "- LEFT JOIN Orders ON Customers.CustomerID = Orders.CustomerID;\n",
        "\n",
        "\n",
        "RIGHT JOIN (RIGHT OUTER JOIN):\n",
        "\n",
        "Returns all rows from the right table and the matched rows from the left table. If there is no match, NULL values are returned for columns from the left table.\n",
        "\n",
        "Example:\n",
        "\n",
        "\n",
        "- SELECT Customers.CustomerName, Orders.OrderID\n",
        "- FROM Customers\n",
        "- RIGHT JOIN Orders ON Customers.CustomerID = Orders.CustomerID;\n",
        "\n",
        "FULL JOIN (FULL OUTER JOIN):\n",
        "\n",
        "Returns all rows when there is a match in either the left or right table. If there is no match, NULL values are returned for columns from the table that does not have a match.\n",
        "\n",
        "Example:\n",
        "\n",
        "\n",
        "- SELECT Customers.CustomerName, Orders.OrderID\n",
        "- FROM Customers\n",
        "- FULL JOIN Orders ON Customers.CustomerID = Orders.CustomerID;\n",
        "\n",
        "These examples demonstrate different types of JOINs and how they combine data from multiple tables. The choice of JOIN type depends on the specific requirements of your query and the relationships between the tables in your database."
      ],
      "metadata": {
        "id": "EJzYiQEZzmd8"
      }
    },
    {
      "cell_type": "markdown",
      "source": [
        "**mySQL**\n",
        "\n",
        "**MS sql Server**\n",
        "\n",
        "**Oracle**"
      ],
      "metadata": {
        "id": "qMe5NXQ5zPDD"
      }
    },
    {
      "cell_type": "markdown",
      "source": [
        "NoSQL (which stands for \"Not Only SQL\") is a type of database management system that is designed to store and retrieve data in ways that do not involve the traditional SQL (Structured Query Language) used in relational databases. NoSQL databases are used for handling large volumes of unstructured or semi-structured data and are characterized by their flexibility, scalability, and ability to handle diverse data types.\n",
        "\n",
        "**for example in SQL  all records has same features maybe nonValue but still the same but in NOSQL  you have unstructured database so its mean maybe some records has different features so schema of NOSQL  is not like recangle dataset with same features and records**.\n",
        "\n",
        "NoSQL databases are often used in scenarios where traditional relational databases may not be the best fit, such as big data applications, real-time web applications, content management systems, and IoT (Internet of Things) data storage.\n",
        "\n",
        "Key characteristics of NoSQL databases include:\n",
        "\n",
        "Schemaless: NoSQL databases are schemaless, meaning they do not require a predefined schema like relational databases. This allows for flexible data storage, as different records in the same collection (in document-based NoSQL databases) can have different fields.\n",
        "\n",
        "Distributed: Many NoSQL databases are designed to be distributed across multiple servers or nodes, enabling horizontal scaling to handle large amounts of data and high read/write loads.\n",
        "\n",
        "High Performance: NoSQL databases are optimized for specific use cases, such as real-time analytics, content management, and data caching, which can result in high performance for those use cases.\n",
        "\n",
        "Variety of Data Models: NoSQL databases support various data models, including key-value stores, document stores, column-family stores, and graph databases, allowing developers to choose the best model for their application's needs.\n",
        "\n",
        "\n",
        "\n",
        "\n",
        "Types of NoSQL databases include:\n",
        "\n",
        "Document-based: Stores data in flexible, semi-structured documents (e.g., MongoDB, Couchbase).\n",
        "\n",
        "Key-Value stores: Use a simple key-value data model (e.g., Redis, Amazon DynamoDB).\n",
        "\n",
        "Column-family stores: Organize data into columns rather than rows (e.g., Apache Cassandra, HBase).\n",
        "\n",
        "Graph databases: Designed for managing and querying data with complex relationships (e.g., Neo4j, Amazon Neptune).\n",
        "\n"
      ],
      "metadata": {
        "id": "OfyXBPsz1gFV"
      }
    },
    {
      "cell_type": "markdown",
      "source": [
        "SQL databases are often considered vertically scalable, while NoSQL databases are considered horizontally scalable due to their architectural differences:\n",
        "\n",
        "**SQL (Relational Databases - RDBMS) Vertical Scaling**:\n",
        "\n",
        "Vertical scaling involves increasing the capacity of a single server by adding more CPU, RAM, storage, or other resources to it.\n",
        "\n",
        "In traditional SQL databases, as the data and user load increase, you can upgrade the existing server by adding more powerful hardware to handle increased demand.\n",
        "\n",
        "Vertical scaling has limitations, as there's a limit to how much a single server can be upgraded. It can become costly and may reach a point where further vertical scaling is not feasible.\n",
        "\n",
        "**NoSQL (Non-Relational Databases) Horizontal Scaling**:\n",
        "\n",
        "Horizontal scaling involves adding more servers or nodes to a distributed system to handle increased data or user load.\n",
        "\n",
        "NoSQL databases are designed to be distributed and horizontally scalable by nature. They can handle large amounts of data and high traffic by adding more servers to the cluster.\n",
        "\n",
        "As the data or user load grows, you can simply add more machines to the NoSQL cluster, which distributes the load and maintains performance.\n",
        "\n",
        "Horizontal scaling is often more cost-effective and flexible than vertical scaling, especially for web applications with variable workloads.\n",
        "\n",
        "The architectural differences between SQL and NoSQL databases contribute to their scalability characteristics:\n",
        "\n",
        "SQL databases are typically based on a monolithic architecture, where all data is stored on a single server. Scaling vertically means increasing the resources of this single server.\n",
        "\n",
        "NoSQL databases are designed with a distributed architecture, where data is distributed across multiple servers or nodes in a cluster. Scaling horizontally involves adding more servers to the cluster to distribute the data and load.\n",
        "\n",
        "In summary, SQL databases are vertically scalable because they rely on increasing the resources of a single server, while NoSQL databases are horizontally scalable because they can expand by adding more servers or nodes to a distributed system. Horizontal scaling is often preferred for handling the scalability demands of modern web applications and big data scenarios."
      ],
      "metadata": {
        "id": "qQGro5O-2hBa"
      }
    },
    {
      "cell_type": "markdown",
      "source": [
        "**Installing MySQL on Windows**\n",
        "\n",
        "after installing we can piping python and sql to extract the data that we need for future analysis"
      ],
      "metadata": {
        "id": "DtCgogFb3vBz"
      }
    },
    {
      "cell_type": "markdown",
      "source": [
        "**mysql-connector-python** is a Python **library** that provides a MySQL driver for connecting and interacting with MySQL databases from Python applications. It allows you to perform various database operations such as connecting to a MySQL server, executing SQL queries, fetching and manipulating data, and managing database connections.\n",
        "\n",
        "Here are some key features and functionalities of the mysql-connector-python library:\n",
        "\n",
        "MySQL Connection: You can establish a connection to a MySQL server by providing the connection parameters such as hostname, username, password, and database name.\n",
        "\n",
        "Executing Queries: You can execute SQL queries (e.g., SELECT, INSERT, UPDATE, DELETE) using the library. It provides methods for executing prepared statements and handling query results.\n",
        "\n",
        "Fetching Data: You can fetch data from query results in various ways, including fetching rows as dictionaries or tuples.\n",
        "\n",
        "Transaction Management: The library supports transaction management, allowing you to begin, commit, or roll back transactions.\n",
        "\n",
        "Error Handling: It provides mechanisms for handling MySQL-specific errors and exceptions.\n",
        "\n",
        "Prepared Statements: You can use prepared statements to safely execute SQL queries with parameterized values.\n",
        "\n",
        "Connection Pooling: You can set up connection pooling to efficiently manage database connections and reuse them.\n",
        "\n",
        "Here's an example of how to use the mysql-connector-python library to connect to a MySQL database and execute a simple query:\n",
        "\n",
        "\n",
        "\n"
      ],
      "metadata": {
        "id": "CybfcTOor_Wj"
      }
    },
    {
      "cell_type": "code",
      "source": [
        "import mysql.connector\n",
        "# make connection --> you can specify various attributes and options inside the parentheses\n",
        "# Establish a connection to the MySQL server\n",
        "conn = mysql.connector.connect(\n",
        "    host=\"localhost\", # ---> mybe you wanna connect with another host not local\n",
        "    user=\"your_username\", ---> name of user and password\n",
        "    password=\"your_password\",\n",
        "    database=\"your_database\"\n",
        ")\n",
        "\n",
        "# Create a  object (cursor) to interact with the database\n",
        "\n",
        "cursor = conn.cursor(\n",
        "    buffered=True,  # Use buffered cursor (True by default)\n",
        "    dictionary=True  # Return rows as dictionaries (True by default)\n",
        ")\n",
        "\n",
        "\n",
        "# in the new object we make new database with specified attributes\n",
        "# Execute a SELECT query\n",
        "query = \"SELECT * FROM your_table\"\n",
        "cursor.execute(query)\n",
        "\n",
        "# Fetch and print the results\n",
        "for row in cursor.fetchall():\n",
        "    print(row)\n",
        "\n",
        "# Close the cursor and the connection\n",
        "cursor.close()\n",
        "conn.close()\n",
        "\n",
        "\n",
        "\n",
        "\n",
        "\n",
        "\"\"\"buffered=True: This attribute specifies whether the cursor should use buffered or unbuffered fetching.\n",
        "A buffered cursor fetches the entire result set into memory, allowing you to navigate it multiple times.\n",
        "An unbuffered cursor fetches rows one by one from the server, which can be more memory-efficient for large result sets.\n",
        "\n",
        "dictionary=True: This attribute indicates that rows fetched using this cursor will be returned as dictionaries,\n",
        " where column names are the keys. By default, rows are returned as tuples.\"\"\""
      ],
      "metadata": {
        "id": "4FRktPvy6if2"
      },
      "execution_count": null,
      "outputs": []
    },
    {
      "cell_type": "markdown",
      "source": [
        "# create a database with the name \"school\" using the mysql-connector-python library\n",
        "\n",
        "Replace \"your_username\" and \"your_password\" with your MySQL server credentials, and adjust the database name and table name as needed for your application (if you already make it)"
      ],
      "metadata": {
        "id": "qLtJ-9fk9tuw"
      }
    },
    {
      "cell_type": "code",
      "source": [
        "import mysql.connector\n",
        "\n",
        "# Replace with your MySQL server configuration\n",
        "config = {\n",
        "    \"host\": \"localhost\",\n",
        "    \"user\": \"your_username\",\n",
        "    \"password\": \"your_password\"\n",
        "}\n",
        "\n",
        "# Establish a connection to the MySQL server\n",
        "conn = mysql.connector.connect(**config)\n",
        "\n",
        "# Create a cursor object\n",
        "cursor = conn.cursor()\n",
        "\n",
        "# SQL command to create the \"school\" database\n",
        "create_db_query = \"CREATE DATABASE school\"\n",
        "\n",
        "try:\n",
        "    # Execute the SQL command to create the database\n",
        "    cursor.execute(create_db_query)\n",
        "    print(\"Database 'school' created successfully.\")\n",
        "except mysql.connector.Error as err:\n",
        "    print(f\"Error: {err}\")\n",
        "finally:\n",
        "    # Close the cursor and connection\n",
        "    cursor.close()\n",
        "    conn.close()\n"
      ],
      "metadata": {
        "id": "5qaYFQfm9vr9"
      },
      "execution_count": null,
      "outputs": []
    },
    {
      "cell_type": "markdown",
      "source": [
        " - create a table named \"student\" with columns \"id,\" \"name,\" and \"age\""
      ],
      "metadata": {
        "id": "BADIjLHD-mXa"
      }
    },
    {
      "cell_type": "code",
      "source": [
        "import mysql.connector\n",
        "\n",
        "# Replace with your MySQL server configuration\n",
        "config = {\n",
        "    \"host\": \"localhost\",\n",
        "    \"user\": \"your_username\",\n",
        "    \"password\": \"your_password\",\n",
        "    \"database\": \"school\"  # Replace with your database name if different\n",
        "}\n",
        "\n",
        "# Establish a connection to the MySQL server\n",
        "conn = mysql.connector.connect(**config)\n",
        "\n",
        "# Create a cursor object\n",
        "cursor = conn.cursor()\n",
        "\n",
        "# SQL command to create the \"student\" table\n",
        "create_table_query = \"\"\"\n",
        "CREATE TABLE student (\n",
        "    ID INT AUTO_INCREMENT PRIMARY KEY,\n",
        "    Name VARCHAR(255) NOT NULL,\n",
        "    Age INT\n",
        ")\n",
        "\"\"\"\n",
        "\n",
        "# INT , VARCHAR,... ----> numeric data type\n",
        "\n",
        "try:\n",
        "    # Execute the SQL command to create the table\n",
        "    cursor.execute(create_table_query)\n",
        "    print(\"Table 'student' created successfully.\")\n",
        "except mysql.connector.Error as err:\n",
        "    print(f\"Error: {err}\")\n",
        "finally:\n",
        "    # Close the cursor and connection\n",
        "    cursor.close()\n",
        "    conn.close()\n"
      ],
      "metadata": {
        "id": "zAQfyBYe-obb"
      },
      "execution_count": null,
      "outputs": []
    },
    {
      "cell_type": "markdown",
      "source": [
        "-  insert data into the \"student\" table"
      ],
      "metadata": {
        "id": "eDrGehbC_vxG"
      }
    },
    {
      "cell_type": "code",
      "source": [
        "import mysql.connector\n",
        "\n",
        "# Replace with your MySQL server configuration\n",
        "config = {\n",
        "    \"host\": \"localhost\",\n",
        "    \"user\": \"your_username\",\n",
        "    \"password\": \"your_password\",\n",
        "    \"database\": \"school\"  # Replace with your database name if different\n",
        "}\n",
        "\n",
        "# Establish a connection to the MySQL server\n",
        "conn = mysql.connector.connect(**config)\n",
        "\n",
        "# Create a cursor object\n",
        "cursor = conn.cursor()\n",
        "\n",
        "# SQL command to insert data into the \"student\" table\n",
        "insert_data_query = \"\"\"\n",
        "INSERT INTO student (name, age)\n",
        "VALUES (%s, %s)\n",
        "\"\"\"\n",
        "\n",
        "# Data to be inserted (values)\n",
        "student_data = [\n",
        "    (\"Alice\", 20),\n",
        "    (\"Bob\", 22),\n",
        "    (\"Charlie\", 21)\n",
        "]\n",
        "\n",
        "try:\n",
        "    # Execute the SQL command to insert data\n",
        "    cursor.executemany(insert_data_query, student_data)\n",
        "    conn.commit()  # Commit the changes to the database\n",
        "    print(\"Data inserted successfully.\")\n",
        "except mysql.connector.Error as err:\n",
        "    conn.rollback()  # Rollback in case of an error\n",
        "    print(f\"Error: {err}\")\n",
        "finally:\n",
        "    # Close the cursor and connection\n",
        "    cursor.close()\n",
        "    conn.close()\n"
      ],
      "metadata": {
        "id": "pLVAHZ_7_xLv"
      },
      "execution_count": null,
      "outputs": []
    },
    {
      "cell_type": "markdown",
      "source": [
        "- SELECT All Rows"
      ],
      "metadata": {
        "id": "KHf831qRBPUD"
      }
    },
    {
      "cell_type": "code",
      "source": [
        "import mysql.connector\n",
        "\n",
        "# Replace with your MySQL server configuration\n",
        "config = {\n",
        "    \"host\": \"localhost\",\n",
        "    \"user\": \"your_username\",\n",
        "    \"password\": \"your_password\",\n",
        "    \"database\": \"school\"\n",
        "}\n",
        "\n",
        "# Establish a connection to the MySQL server\n",
        "conn = mysql.connector.connect(**config)\n",
        "\n",
        "# Create a cursor object\n",
        "cursor = conn.cursor()\n",
        "\n",
        "# SQL command to select all rows from the \"student\" table\n",
        "select_all_query = \"SELECT * FROM student\"\n",
        "\n",
        "# Execute the SQL command\n",
        "cursor.execute(select_all_query)\n",
        "\n",
        "# Fetch all rows\n",
        "result = cursor.fetchall()\n",
        "\n",
        "# Print the result\n",
        "for row in result:\n",
        "    print(row)\n",
        "\n",
        "# Close the cursor and connection\n",
        "cursor.close()\n",
        "conn.close()\n"
      ],
      "metadata": {
        "id": "ruucLqkfBQzw"
      },
      "execution_count": null,
      "outputs": []
    },
    {
      "cell_type": "markdown",
      "source": [
        "- SELECT with WHERE Clause"
      ],
      "metadata": {
        "id": "pjJRsTWOBTfJ"
      }
    },
    {
      "cell_type": "code",
      "source": [
        "# SQL command to select students with age greater than 20\n",
        "select_where_query = \"SELECT * FROM student WHERE age > 20\"\n",
        "\n",
        "# Execute the SQL command\n",
        "cursor.execute(select_where_query)\n",
        "\n",
        "# Fetch the rows that meet the condition\n",
        "result = cursor.fetchall()\n",
        "\n",
        "# Print the result\n",
        "for row in result:\n",
        "    print(row)\n"
      ],
      "metadata": {
        "id": "BU_BJ7x9BYr6"
      },
      "execution_count": null,
      "outputs": []
    },
    {
      "cell_type": "markdown",
      "source": [
        "- UPDATE Data"
      ],
      "metadata": {
        "id": "HTDBYKpNBcNu"
      }
    },
    {
      "cell_type": "code",
      "source": [
        "# SQL command to update the age of a student with a specific ID\n",
        "update_query = \"UPDATE student SET age = %s WHERE id = %s\"\n",
        "new_age = 23\n",
        "student_id = 1\n",
        "\n",
        "# Execute the SQL command\n",
        "cursor.execute(update_query, (new_age, student_id))\n",
        "\n",
        "# Commit the changes to the database\n",
        "conn.commit()\n",
        "print(\"Data updated successfully.\")\n"
      ],
      "metadata": {
        "id": "GjvqgDc6Bo5X"
      },
      "execution_count": null,
      "outputs": []
    },
    {
      "cell_type": "markdown",
      "source": [
        "- DELETE Data\n",
        "\n",
        "very careful about this order becouse maybe you lost your data in entire database"
      ],
      "metadata": {
        "id": "WtNRCt9zBuYR"
      }
    },
    {
      "cell_type": "code",
      "source": [
        "# SQL command to delete a student with a specific ID\n",
        "delete_query = \"DELETE FROM student WHERE id = %s\"\n",
        "student_id = 2\n",
        "\n",
        "# Execute the SQL command\n",
        "cursor.execute(delete_query, (student_id,))\n",
        "\n",
        "# Commit the changes to the database\n",
        "conn.commit()\n",
        "print(\"Data deleted successfully.\")\n"
      ],
      "metadata": {
        "id": "iiOegmrMBy9o"
      },
      "execution_count": null,
      "outputs": []
    },
    {
      "cell_type": "markdown",
      "source": [
        " # make two SQL queries for creating two tables, \"items\" and \"customer\n",
        " # define primary and forign key for relation between these 2 tables"
      ],
      "metadata": {
        "id": "EOJtW9rFnzhs"
      }
    },
    {
      "cell_type": "code",
      "source": [
        "import mysql.connector\n",
        "\n",
        "# Connect to the MySQL database\n",
        "conn = mysql.connector.connect(\n",
        "    host=\"your_host\",\n",
        "    user=\"your_username\",\n",
        "    password=\"your_password\",\n",
        "    database=\"your_database\"\n",
        ")\n",
        "\n",
        "# Create a cursor object\n",
        "cursor = conn.cursor()\n",
        "\n",
        "# Create the \"items\" table\n",
        "cursor.execute(\"\"\"\n",
        "    CREATE TABLE items (\n",
        "        item_id INT AUTO_INCREMENT PRIMARY KEY,\n",
        "        item_name VARCHAR(255) NOT NULL,\n",
        "        item_description TEXT,\n",
        "        item_price DECIMAL(10, 2) NOT NULL\n",
        "    )\n",
        "\"\"\")\n",
        "\n",
        "# Create the \"customer\" table with a foreign key reference to the \"items\" table\n",
        "cursor.execute(\"\"\"\n",
        "    CREATE TABLE customer (\n",
        "        customer_id INT AUTO_INCREMENT PRIMARY KEY,\n",
        "        customer_name VARCHAR(255) NOT NULL,\n",
        "        customer_email VARCHAR(255) NOT NULL,\n",
        "        item_fk INT NOT NULL,\n",
        "        city VARCHAR(255),\n",
        "        FOREIGN KEY (item_fk) REFERENCES items(item_id)\n",
        "    )\n",
        "\"\"\")\n",
        "\n",
        "# Commit the changes and close the cursor and connection\n",
        "conn.commit()\n",
        "cursor.close()\n",
        "conn.close()\n"
      ],
      "metadata": {
        "id": "7TgbyLuOn1zO"
      },
      "execution_count": null,
      "outputs": []
    },
    {
      "cell_type": "code",
      "source": [
        "import mysql.connector\n",
        "\n",
        "# Connect to the MySQL database\n",
        "conn = mysql.connector.connect(\n",
        "    host=\"your_host\",\n",
        "    user=\"your_username\",\n",
        "    password=\"your_password\",\n",
        "    database=\"your_database\"\n",
        ")\n",
        "\n",
        "# Create a cursor object\n",
        "cursor = conn.cursor()\n",
        "\n",
        "# Insert data into the \"items\" table\n",
        "cursor.execute(\"\"\"\n",
        "    INSERT INTO items (item_name, item_description, item_price)\n",
        "    VALUES\n",
        "    ('Item 1', 'Description for Item 1', 19.99),\n",
        "    ('Item 2', 'Description for Item 2', 29.99),\n",
        "    ('Item 3', 'Description for Item 3', 9.99)\n",
        "\"\"\")\n",
        "\n",
        "# Get the last inserted item_id\n",
        "last_item_id = cursor.lastrowid\n",
        "\n",
        "# Insert data into the \"customer\" table\n",
        "cursor.execute(\"\"\"\n",
        "    INSERT INTO customer (customer_name, customer_email, item_fk, city)\n",
        "    VALUES\n",
        "    ('Customer 1', 'customer1@example.com', %s, 'New York'),\n",
        "    ('Customer 2', 'customer2@example.com', %s, 'Los Angeles')\n",
        "\"\"\", (last_item_id, last_item_id))\n",
        "\n",
        "# Commit the changes and close the cursor and connection\n",
        "conn.commit()\n",
        "cursor.close()\n",
        "conn.close()\n"
      ],
      "metadata": {
        "id": "brDSgRiIpnCD"
      },
      "execution_count": null,
      "outputs": []
    },
    {
      "cell_type": "markdown",
      "source": [
        "GROUP BY:  The GROUP BY clause is used to group rows with similar values in one or more columns into summary rows, like \"total sales per category.\"  It is typically used with aggregate functions like **SUM, COUNT, AVG**, etc., to perform calculations on each group of rows."
      ],
      "metadata": {
        "id": "OK00H5z_vUsv"
      }
    },
    {
      "cell_type": "code",
      "source": [
        "# Example: Group items by category and calculate the total quantity in each category\n",
        "cursor.execute(\"\"\"\n",
        "    SELECT category, SUM(quantity) AS total_quantity\n",
        "    FROM sales\n",
        "    GROUP BY category\n",
        "\"\"\")\n",
        "result = cursor.fetchall()\n",
        "for row in result:\n",
        "    print(f\"Category: {row[0]}, Total Quantity: {row[1]}\")\n"
      ],
      "metadata": {
        "id": "pRL1M2WrvXTL"
      },
      "execution_count": null,
      "outputs": []
    },
    {
      "cell_type": "markdown",
      "source": [
        "ORDER BY: The ORDER BY clause is used to sort the result set in **ascending (ASC) or descending (DESC)** order based on one or more columns."
      ],
      "metadata": {
        "id": "lNvokMx9vart"
      }
    },
    {
      "cell_type": "code",
      "source": [
        "# Example: Retrieve items sorted by price in descending order\n",
        "cursor.execute(\"\"\"\n",
        "    SELECT item_name, item_price\n",
        "    FROM items\n",
        "    ORDER BY item_price DESC\n",
        "\"\"\")\n",
        "result = cursor.fetchall()\n",
        "for row in result:\n",
        "    print(f\"Item: {row[0]}, Price: {row[1]}\")\n"
      ],
      "metadata": {
        "id": "SN6a8dkwviwE"
      },
      "execution_count": null,
      "outputs": []
    },
    {
      "cell_type": "markdown",
      "source": [
        "WHERE: The WHERE clause is used to filter rows from the result set based on a specified condition."
      ],
      "metadata": {
        "id": "RgxLyLvVvqGk"
      }
    },
    {
      "cell_type": "code",
      "source": [
        "# Example: Retrieve customers from New York\n",
        "cursor.execute(\"\"\"\n",
        "    SELECT customer_name, city\n",
        "    FROM customers\n",
        "    WHERE city = 'New York'\n",
        "\"\"\")\n",
        "result = cursor.fetchall()\n",
        "for row in result:\n",
        "    print(f\"Customer: {row[0]}, City: {row[1]}\")\n"
      ],
      "metadata": {
        "id": "Emub1F5xvzsE"
      },
      "execution_count": null,
      "outputs": []
    },
    {
      "cell_type": "markdown",
      "source": [
        "HAVING: The HAVING clause is used to filter groups of rows returned by a GROUP BY clause based on a specified condition."
      ],
      "metadata": {
        "id": "UY-zsJZwv0ul"
      }
    },
    {
      "cell_type": "code",
      "source": [
        "# Example: Calculate the total quantity of items sold per category and filter by categories with a total quantity > 100\n",
        "cursor.execute(\"\"\"\n",
        "    SELECT category, SUM(quantity) AS total_quantity\n",
        "    FROM sales\n",
        "    GROUP BY category\n",
        "    HAVING total_quantity > 100\n",
        "\"\"\")\n",
        "result = cursor.fetchall()\n",
        "for row in result:\n",
        "    print(f\"Category: {row[0]}, Total Quantity: {row[1]}\")\n",
        "\n",
        "\n",
        "# GROUP BY is used for grouping rows, while HAVING is used for filtering groups based on aggregate values"
      ],
      "metadata": {
        "id": "v-N1WzlTwAnb"
      },
      "execution_count": null,
      "outputs": []
    },
    {
      "cell_type": "markdown",
      "source": [
        "how to connect to a Microsoft SQL Server database using Python's pandas library and **SQLAlchemy**, retrieve data from multiple tables, and store it in a pandas DataFrame.\n",
        "\n",
        "mysql-connector-python and SQLAlchemy are both Python libraries used for working with relational databases, but they serve different purposes and have distinct features:\n",
        "\n",
        "Database Connectivity:\n",
        "\n",
        "mysql-connector-python:\n",
        "\n",
        "- mysql-connector-python is a lightweight library specifically designed for connecting to MySQL databases.\n",
        "\n",
        "- It provides a simple and direct way to establish connections to MySQL servers and execute SQL queries.\n",
        "\n",
        "- While it is MySQL-specific, it offers a straightforward and efficient way to interact with MySQL databases.\n",
        "\n",
        "SQLAlchemy:\n",
        "\n",
        "- SQLAlchemy is a more comprehensive and database-agnostic Object-Relational Mapping (ORM) library.\n",
        "- It supports various database backends, including MySQL, PostgreSQL, SQLite, Oracle, and more.\n",
        "- SQLAlchemy allows you to work with databases in a more abstract, Pythonic way, and it provides a powerful ORM system for defining database models and relationships."
      ],
      "metadata": {
        "id": "3epnen1Yx1lw"
      }
    },
    {
      "cell_type": "markdown",
      "source": [
        "a basic example of how to use SQLAlchemy to create a simple SQLite database, define a table, insert data, and query data from that table:"
      ],
      "metadata": {
        "id": "wUlNsThBza9L"
      }
    },
    {
      "cell_type": "code",
      "source": [
        "from sqlalchemy import create_engine, Column, Integer, String\n",
        "from sqlalchemy.orm import sessionmaker\n",
        "from sqlalchemy.ext.declarative import declarative_base\n",
        "\n",
        "# Create a SQLite database in memory\n",
        "engine = create_engine('sqlite:///:memory:')\n",
        "\n",
        "# Define a base class for declarative models\n",
        "Base = declarative_base()\n",
        "\n",
        "# Define a Python class that maps to a table in the database\n",
        "class User(Base):\n",
        "    __tablename__ = 'users'\n",
        "\n",
        "    id = Column(Integer, primary_key=True)\n",
        "    name = Column(String)\n",
        "    age = Column(Integer)\n",
        "\n",
        "# Create the table in the database\n",
        "Base.metadata.create_all(engine)\n",
        "\n",
        "# Create a session to interact with the database\n",
        "Session = sessionmaker(bind=engine)\n",
        "session = Session()\n",
        "\n",
        "# Insert data into the table\n",
        "user1 = User(name='Alice', age=30)\n",
        "user2 = User(name='Bob', age=25)\n",
        "\n",
        "session.add(user1)\n",
        "session.add(user2)\n",
        "session.commit()\n",
        "\n",
        "# Query data from the table\n",
        "users = session.query(User).all()\n",
        "\n",
        "# Print the results\n",
        "for user in users:\n",
        "    print(f'ID: {user.id}, Name: {user.name}, Age: {user.age}')\n",
        "\n",
        "# Close the session\n",
        "session.close()\n"
      ],
      "metadata": {
        "id": "sLbaimeGzDmc"
      },
      "execution_count": null,
      "outputs": []
    },
    {
      "cell_type": "code",
      "source": [],
      "metadata": {
        "id": "XYxi3Oklx5mC"
      },
      "execution_count": null,
      "outputs": []
    }
  ]
}